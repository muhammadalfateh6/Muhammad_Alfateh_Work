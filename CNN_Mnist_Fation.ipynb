{
  "cells": [
    {
      "cell_type": "markdown",
      "metadata": {
        "id": "view-in-github",
        "colab_type": "text"
      },
      "source": [
        "<a href=\"https://colab.research.google.com/github/muhammadalfateh6/Muhammad_Alfateh_Work/blob/main/CNN_Mnist_Fation.ipynb\" target=\"_parent\"><img src=\"https://colab.research.google.com/assets/colab-badge.svg\" alt=\"Open In Colab\"/></a>"
      ]
    },
    {
      "cell_type": "code",
      "source": [
        "import tensorflow as tf\n",
        "from tensorflow.keras.models import Sequential\n",
        "from tensorflow.keras.layers import Dense, Conv2D, Flatten, MaxPool2D\n",
        "import matplotlib.pyplot as plt\n",
        "import numpy as npp\n",
        "import pandas as pdd"
      ],
      "metadata": {
        "id": "EXzYqzLGFe5N"
      },
      "execution_count": null,
      "outputs": []
    },
    {
      "cell_type": "code",
      "source": [
        "model = Sequential([\n",
        "    Conv2D(16, (3,3), input_shape=(28,28,1), padding='same', strides=1, activation='relu'),\n",
        "    MaxPool2D((3,3)),\n",
        "    Flatten(),\n",
        "    Dense(10, activation='softmax')\n",
        "])\n"
      ],
      "metadata": {
        "id": "3dHTfaUYF6mq"
      },
      "execution_count": null,
      "outputs": []
    },
    {
      "cell_type": "code",
      "source": [
        "opt = tf.keras.optimizers.Adam(learning_rate=0.005)\n",
        "acc = tf.keras.metrics.SparseCategoricalAccuracy()\n",
        "mae = tf.keras.metrics.MeanAbsoluteError()\n",
        "model.compile(optimizer=opt,\n",
        "              loss ='sparse_categorical_crossentropy',\n",
        "              metrics=[acc, mae])"
      ],
      "metadata": {
        "id": "98NKV6ktJaTh"
      },
      "execution_count": null,
      "outputs": []
    },
    {
      "cell_type": "code",
      "source": [
        "mnist = tf.keras.datasets.fashion_mnist\n",
        "(train_images, train_labels), (test_images, test_labels) = mnist.load_data() "
      ],
      "metadata": {
        "id": "pclSNEgHL8Rw"
      },
      "execution_count": null,
      "outputs": []
    },
    {
      "cell_type": "code",
      "source": [
        "test_images.shape"
      ],
      "metadata": {
        "id": "efWiPRy6M7qY",
        "outputId": "3396a0b5-160a-4f8b-a4db-d5c0c064a383",
        "colab": {
          "base_uri": "https://localhost:8080/"
        }
      },
      "execution_count": null,
      "outputs": [
        {
          "output_type": "execute_result",
          "data": {
            "text/plain": [
              "(10000, 28, 28)"
            ]
          },
          "metadata": {},
          "execution_count": 19
        }
      ]
    },
    {
      "cell_type": "code",
      "source": [
        "train_images.shape"
      ],
      "metadata": {
        "id": "2uHhX1fcN0SX",
        "outputId": "e6e68f1e-5e6e-41f5-ff74-e2270089512f",
        "colab": {
          "base_uri": "https://localhost:8080/"
        }
      },
      "execution_count": null,
      "outputs": [
        {
          "output_type": "execute_result",
          "data": {
            "text/plain": [
              "(60000, 28, 28)"
            ]
          },
          "metadata": {},
          "execution_count": 20
        }
      ]
    },
    {
      "cell_type": "code",
      "source": [
        "labels = [\n",
        "    'T-shirt/top',\n",
        "    'Trouser',\n",
        "    'Pullover',\n",
        "    'Dress',\n",
        "    'Coat',\n",
        "    'Sandal',\n",
        "    'Shirt',\n",
        "    'Sneaker',\n",
        "    'Bag',\n",
        "    'Ankle boot'\n",
        "]\n",
        "print(train_labels[53])"
      ],
      "metadata": {
        "id": "K_iOLboVQl5u",
        "outputId": "41422071-ba59-42f6-91ee-41e0d1a20911",
        "colab": {
          "base_uri": "https://localhost:8080/"
        }
      },
      "execution_count": null,
      "outputs": [
        {
          "output_type": "stream",
          "name": "stdout",
          "text": [
            "2\n"
          ]
        }
      ]
    },
    {
      "cell_type": "code",
      "source": [
        "train_images = train_images/ 255.\n",
        "test_images = test_images/ 255.\n",
        "\n",
        "i=646\n",
        "im = train_images[i,:,:]\n",
        "plt.imshow(im)\n",
        "print(f\"the label is: {labels[train_labels[i]]}\")"
      ],
      "metadata": {
        "id": "4oRGJhk7RUln",
        "outputId": "f12abe45-9cf4-4b83-f0d5-efd7e730ffd0",
        "colab": {
          "base_uri": "https://localhost:8080/",
          "height": 282
        }
      },
      "execution_count": null,
      "outputs": [
        {
          "output_type": "stream",
          "name": "stdout",
          "text": [
            "the label is: Ankle boot\n"
          ]
        },
        {
          "output_type": "display_data",
          "data": {
            "text/plain": [
              "<Figure size 432x288 with 1 Axes>"
            ],
            "image/png": "[encoded data removed]"
          },
          "metadata": {
            "needs_background": "light"
          }
        }
      ]
    },
    {
      "cell_type": "code",
      "source": [
        "history = model.fit(train_images[...,npp.newaxis], train_labels, epochs=8, batch_size=256, verbose=1)"
      ],
      "metadata": {
        "id": "Yd90QMLnUIW-",
        "outputId": "4557ced2-ff63-4dea-eacd-cd57b987705a",
        "colab": {
          "base_uri": "https://localhost:8080/"
        }
      },
      "execution_count": null,
      "outputs": [
        {
          "output_type": "stream",
          "name": "stdout",
          "text": [
            "Epoch 1/8\n",
            "235/235 [==============================] - 17s 72ms/step - loss: 0.2401 - sparse_categorical_accuracy: 0.9142 - mean_absolute_error: 4.4200\n",
            "Epoch 2/8\n",
            "235/235 [==============================] - 17s 72ms/step - loss: 0.2361 - sparse_categorical_accuracy: 0.9146 - mean_absolute_error: 4.4200\n",
            "Epoch 3/8\n",
            "235/235 [==============================] - 17s 72ms/step - loss: 0.2290 - sparse_categorical_accuracy: 0.9180 - mean_absolute_error: 4.4200\n",
            "Epoch 4/8\n",
            "235/235 [==============================] - 17s 74ms/step - loss: 0.2263 - sparse_categorical_accuracy: 0.9184 - mean_absolute_error: 4.4200\n",
            "Epoch 5/8\n",
            "235/235 [==============================] - 19s 81ms/step - loss: 0.2223 - sparse_categorical_accuracy: 0.9193 - mean_absolute_error: 4.4200\n",
            "Epoch 6/8\n",
            "235/235 [==============================] - 17s 71ms/step - loss: 0.2205 - sparse_categorical_accuracy: 0.9204 - mean_absolute_error: 4.4200\n",
            "Epoch 7/8\n",
            "235/235 [==============================] - 17s 72ms/step - loss: 0.2148 - sparse_categorical_accuracy: 0.9226 - mean_absolute_error: 4.4200\n",
            "Epoch 8/8\n",
            "235/235 [==============================] - 17s 71ms/step - loss: 0.2130 - sparse_categorical_accuracy: 0.9224 - mean_absolute_error: 4.4200\n"
          ]
        }
      ]
    },
    {
      "cell_type": "code",
      "source": [
        "df = pdd.DataFrame(history.history)\n",
        "df.head()"
      ],
      "metadata": {
        "id": "k4Qh06BZZwVV",
        "outputId": "dc3b7759-2e67-4d3f-e663-73ee09f16783",
        "colab": {
          "base_uri": "https://localhost:8080/",
          "height": 206
        }
      },
      "execution_count": null,
      "outputs": [
        {
          "output_type": "execute_result",
          "data": {
            "text/plain": [
              "       loss  sparse_categorical_accuracy  mean_absolute_error\n",
              "0  0.521371                     0.820833             4.420000\n",
              "1  0.343187                     0.880133             4.419999\n",
              "2  0.308684                     0.891117             4.420002\n",
              "3  0.289494                     0.898400             4.419999\n",
              "4  0.273252                     0.903167             4.420000"
            ],
            "text/html": [
              "\n",
              "  <div id=\"df-378a7123-1032-4f37-87e5-ecca53af6336\">\n",
              "    <div class=\"colab-df-container\">\n",
              "      <div>\n",
              "<style scoped>\n",
              "    .dataframe tbody tr th:only-of-type {\n",
              "        vertical-align: middle;\n",
              "    }\n",
              "\n",
              "    .dataframe tbody tr th {\n",
              "        vertical-align: top;\n",
              "    }\n",
              "\n",
              "    .dataframe thead th {\n",
              "        text-align: right;\n",
              "    }\n",
              "</style>\n",
              "<table border=\"1\" class=\"dataframe\">\n",
              "  <thead>\n",
              "    <tr style=\"text-align: right;\">\n",
              "      <th></th>\n",
              "      <th>loss</th>\n",
              "      <th>sparse_categorical_accuracy</th>\n",
              "      <th>mean_absolute_error</th>\n",
              "    </tr>\n",
              "  </thead>\n",
              "  <tbody>\n",
              "    <tr>\n",
              "      <th>0</th>\n",
              "      <td>0.521371</td>\n",
              "      <td>0.820833</td>\n",
              "      <td>4.420000</td>\n",
              "    </tr>\n",
              "    <tr>\n",
              "      <th>1</th>\n",
              "      <td>0.343187</td>\n",
              "      <td>0.880133</td>\n",
              "      <td>4.419999</td>\n",
              "    </tr>\n",
              "    <tr>\n",
              "      <th>2</th>\n",
              "      <td>0.308684</td>\n",
              "      <td>0.891117</td>\n",
              "      <td>4.420002</td>\n",
              "    </tr>\n",
              "    <tr>\n",
              "      <th>3</th>\n",
              "      <td>0.289494</td>\n",
              "      <td>0.898400</td>\n",
              "      <td>4.419999</td>\n",
              "    </tr>\n",
              "    <tr>\n",
              "      <th>4</th>\n",
              "      <td>0.273252</td>\n",
              "      <td>0.903167</td>\n",
              "      <td>4.420000</td>\n",
              "    </tr>\n",
              "  </tbody>\n",
              "</table>\n",
              "</div>\n",
              "      <button class=\"colab-df-convert\" onclick=\"convertToInteractive('df-378a7123-1032-4f37-87e5-ecca53af6336')\"\n",
              "              title=\"Convert this dataframe to an interactive table.\"\n",
              "              style=\"display:none;\">\n",
              "        \n",
              "  <svg xmlns=\"http://www.w3.org/2000/svg\" height=\"24px\"viewBox=\"0 0 24 24\"\n",
              "       width=\"24px\">\n",
              "    <path d=\"M0 0h24v24H0V0z\" fill=\"none\"/>\n",
              "    <path d=\"M18.56 5.44l.94 2.06.94-2.06 2.06-.94-2.06-.94-.94-2.06-.94 2.06-2.06.94zm-11 1L8.5 8.5l.94-2.06 2.06-.94-2.06-.94L8.5 2.5l-.94 2.06-2.06.94zm10 10l.94 2.06.94-2.06 2.06-.94-2.06-.94-.94-2.06-.94 2.06-2.06.94z\"/><path d=\"M17.41 7.96l-1.37-1.37c-.4-.4-.92-.59-1.43-.59-.52 0-1.04.2-1.43.59L10.3 9.45l-7.72 7.72c-.78.78-.78 2.05 0 2.83L4 21.41c.39.39.9.59 1.41.59.51 0 1.02-.2 1.41-.59l7.78-7.78 2.81-2.81c.8-.78.8-2.07 0-2.86zM5.41 20L4 18.59l7.72-7.72 1.47 1.35L5.41 20z\"/>\n",
              "  </svg>\n",
              "      </button>\n",
              "      \n",
              "  <style>\n",
              "    .colab-df-container {\n",
              "      display:flex;\n",
              "      flex-wrap:wrap;\n",
              "      gap: 12px;\n",
              "    }\n",
              "\n",
              "    .colab-df-convert {\n",
              "      background-color: #E8F0FE;\n",
              "      border: none;\n",
              "      border-radius: 50%;\n",
              "      cursor: pointer;\n",
              "      display: none;\n",
              "      fill: #1967D2;\n",
              "      height: 32px;\n",
              "      padding: 0 0 0 0;\n",
              "      width: 32px;\n",
              "    }\n",
              "\n",
              "    .colab-df-convert:hover {\n",
              "      background-color: #E2EBFA;\n",
              "      box-shadow: 0px 1px 2px rgba(60, 64, 67, 0.3), 0px 1px 3px 1px rgba(60, 64, 67, 0.15);\n",
              "      fill: #174EA6;\n",
              "    }\n",
              "\n",
              "    [theme=dark] .colab-df-convert {\n",
              "      background-color: #3B4455;\n",
              "      fill: #D2E3FC;\n",
              "    }\n",
              "\n",
              "    [theme=dark] .colab-df-convert:hover {\n",
              "      background-color: #434B5C;\n",
              "      box-shadow: 0px 1px 3px 1px rgba(0, 0, 0, 0.15);\n",
              "      filter: drop-shadow(0px 1px 2px rgba(0, 0, 0, 0.3));\n",
              "      fill: #FFFFFF;\n",
              "    }\n",
              "  </style>\n",
              "\n",
              "      <script>\n",
              "        const buttonEl =\n",
              "          document.querySelector('#df-378a7123-1032-4f37-87e5-ecca53af6336 button.colab-df-convert');\n",
              "        buttonEl.style.display =\n",
              "          google.colab.kernel.accessAllowed ? 'block' : 'none';\n",
              "\n",
              "        async function convertToInteractive(key) {\n",
              "          const element = document.querySelector('#df-378a7123-1032-4f37-87e5-ecca53af6336');\n",
              "          const dataTable =\n",
              "            await google.colab.kernel.invokeFunction('convertToInteractive',\n",
              "                                                     [key], {});\n",
              "          if (!dataTable) return;\n",
              "\n",
              "          const docLinkHtml = 'Like what you see? Visit the ' +\n",
              "            '<a target=\"_blank\" href=https://colab.research.google.com/notebooks/data_table.ipynb>data table notebook</a>'\n",
              "            + ' to learn more about interactive tables.';\n",
              "          element.innerHTML = '';\n",
              "          dataTable['output_type'] = 'display_data';\n",
              "          await google.colab.output.renderOutput(dataTable, element);\n",
              "          const docLink = document.createElement('div');\n",
              "          docLink.innerHTML = docLinkHtml;\n",
              "          element.appendChild(docLink);\n",
              "        }\n",
              "      </script>\n",
              "    </div>\n",
              "  </div>\n",
              "  "
            ]
          },
          "metadata": {},
          "execution_count": 11
        }
      ]
    },
    {
      "cell_type": "code",
      "source": [
        "lossplot = df.plot(y=\"loss\", title=\"Loss vs Epochs\", legend=False)\n",
        "lossplot.set(xlabel=\"Epochs\", ylabel=\"Loss\")"
      ],
      "metadata": {
        "id": "1XV8w-gfaXWV",
        "outputId": "a8e81c95-4d3a-4ea0-fe57-31dc6363be09",
        "colab": {
          "base_uri": "https://localhost:8080/",
          "height": 312
        }
      },
      "execution_count": null,
      "outputs": [
        {
          "output_type": "execute_result",
          "data": {
            "text/plain": [
              "[Text(0, 0.5, 'Loss'), Text(0.5, 0, 'Epochs')]"
            ]
          },
          "metadata": {},
          "execution_count": 102
        },
        {
          "output_type": "display_data",
          "data": {
            "text/plain": [
              "<Figure size 432x288 with 1 Axes>"
            ],
            "image/png": "[encoded data removed]"
          },
          "metadata": {
            "needs_background": "light"
          }
        }
      ]
    },
    {
      "cell_type": "code",
      "source": [
        "evaluation = model.evaluate(test_images, test_labels, verbose=2)"
      ],
      "metadata": {
        "colab": {
          "base_uri": "https://localhost:8080/"
        },
        "id": "kedggxmmqPMS",
        "outputId": "007df5ea-6d01-476f-a0d1-f2f45185cedc"
      },
      "execution_count": null,
      "outputs": [
        {
          "output_type": "stream",
          "name": "stdout",
          "text": [
            "313/313 - 2s - loss: 0.2915 - sparse_categorical_accuracy: 0.8993 - mean_absolute_error: 4.4200 - 2s/epoch - 6ms/step\n"
          ]
        }
      ]
    },
    {
      "cell_type": "code",
      "source": [
        "idx = 9999\n",
        "theimage= test_images[idx]\n",
        "plt.imshow(theimage)\n",
        "print(f\"Label: {labels[test_labels[idx]]}\")"
      ],
      "metadata": {
        "colab": {
          "base_uri": "https://localhost:8080/",
          "height": 282
        },
        "id": "VOyTFMrYtVNJ",
        "outputId": "5a8374ee-a3db-4b13-8fd6-1131cc47b0a7"
      },
      "execution_count": null,
      "outputs": [
        {
          "output_type": "stream",
          "name": "stdout",
          "text": [
            "Label: Sandal\n"
          ]
        },
        {
          "output_type": "display_data",
          "data": {
            "text/plain": [
              "<Figure size 432x288 with 1 Axes>"
            ],
            "image/png": "[encoded data removed]"
          },
          "metadata": {
            "needs_background": "light"
          }
        }
      ]
    },
    {
      "cell_type": "code",
      "source": [
        "pred = model.predict(theimage[npp.newaxis,...,npp.newaxis])\n",
        "print(f\"Prediction: {labels[npp.argmax(pred)]}\")"
      ],
      "metadata": {
        "colab": {
          "base_uri": "https://localhost:8080/"
        },
        "id": "eRsSDMrAr0hi",
        "outputId": "7291b103-699f-4a1a-fdf3-670a572d7765"
      },
      "execution_count": null,
      "outputs": [
        {
          "output_type": "stream",
          "name": "stdout",
          "text": [
            "1/1 [==============================] - 0s 24ms/step\n",
            "Prediction: Sandal\n"
          ]
        }
      ]
    },
    {
      "cell_type": "code",
      "source": [],
      "metadata": {
        "id": "oNp0LL4Sxdyv"
      },
      "execution_count": null,
      "outputs": []
    }
  ],
  "metadata": {
    "colab": {
      "provenance": [],
      "include_colab_link": true
    },
    "kernelspec": {
      "display_name": "Python 3",
      "name": "python3"
    }
  },
  "nbformat": 4,
  "nbformat_minor": 0
}