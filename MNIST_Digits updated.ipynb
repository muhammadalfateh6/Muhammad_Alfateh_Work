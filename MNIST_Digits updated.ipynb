{
  "cells": [
    {
      "cell_type": "markdown",
      "metadata": {
        "id": "view-in-github",
        "colab_type": "text"
      },
      "source": [
        "<a href=\"https://colab.research.google.com/github/muhammadalfateh6/Muhammad_Alfateh_Work/blob/main/MNIST_Digits%20updated.ipynb\" target=\"_parent\"><img src=\"https://colab.research.google.com/assets/colab-badge.svg\" alt=\"Open In Colab\"/></a>"
      ]
    },
    {
      "cell_type": "code",
      "source": [
        "import tensorflow as tf\n",
        "from tensorflow.keras.models import Sequential\n",
        "from tensorflow.keras.layers import Dense, Conv2D, Flatten, MaxPool2D\n",
        "import matplotlib.pyplot as plt\n",
        "import numpy as npp\n",
        "import pandas as pdd"
      ],
      "metadata": {
        "id": "EXzYqzLGFe5N"
      },
      "execution_count": 1,
      "outputs": []
    },
    {
      "cell_type": "code",
      "source": [
        "model = Sequential([\n",
        "    Conv2D(16, (3,3), input_shape=(28,28,1), padding='same', strides=1, activation='relu'),\n",
        "    MaxPool2D((3,3)),\n",
        "    Conv2D(8, (3,3), padding='same', strides=1, activation='relu'),\n",
        "    MaxPool2D((3,3)),\n",
        "    Flatten(),\n",
        "    Dense(10, activation='softmax')\n",
        "])\n"
      ],
      "metadata": {
        "id": "3dHTfaUYF6mq"
      },
      "execution_count": 2,
      "outputs": []
    },
    {
      "cell_type": "code",
      "source": [
        "opt = tf.keras.optimizers.Adam(learning_rate=0.005)\n",
        "acc = tf.keras.metrics.SparseCategoricalAccuracy()\n",
        "mae = tf.keras.metrics.MeanAbsoluteError()\n",
        "model.compile(optimizer=opt,\n",
        "              loss ='sparse_categorical_crossentropy',\n",
        "              metrics=[acc, mae])"
      ],
      "metadata": {
        "id": "98NKV6ktJaTh"
      },
      "execution_count": 3,
      "outputs": []
    },
    {
      "cell_type": "code",
      "source": [
        "mnist =tf.keras.datasets.mnist #tf.keras.datasets.fashion_mnist \n",
        "(train_images, train_labels), (test_images, test_labels) = mnist.load_data() "
      ],
      "metadata": {
        "id": "pclSNEgHL8Rw"
      },
      "execution_count": 4,
      "outputs": []
    },
    {
      "cell_type": "code",
      "source": [
        "test_images.shape"
      ],
      "metadata": {
        "id": "efWiPRy6M7qY",
        "outputId": "cb96078b-4349-408e-a430-aeb9c19a13a0",
        "colab": {
          "base_uri": "https://localhost:8080/"
        }
      },
      "execution_count": 5,
      "outputs": [
        {
          "output_type": "execute_result",
          "data": {
            "text/plain": [
              "(10000, 28, 28)"
            ]
          },
          "metadata": {},
          "execution_count": 5
        }
      ]
    },
    {
      "cell_type": "code",
      "source": [
        "train_images.shape"
      ],
      "metadata": {
        "id": "2uHhX1fcN0SX",
        "outputId": "f21c9fc0-7e5d-4d41-d342-37fb4a79d42f",
        "colab": {
          "base_uri": "https://localhost:8080/"
        }
      },
      "execution_count": 6,
      "outputs": [
        {
          "output_type": "execute_result",
          "data": {
            "text/plain": [
              "(60000, 28, 28)"
            ]
          },
          "metadata": {},
          "execution_count": 6
        }
      ]
    },
    {
      "cell_type": "code",
      "source": [
        "labels = [\n",
        "    '0',\n",
        "    '1',\n",
        "    '2',\n",
        "    '3',\n",
        "    '4',\n",
        "    '5',\n",
        "    '6',\n",
        "    '7',\n",
        "    '8',\n",
        "    '9'\n",
        "]\n",
        "print(train_labels[53])"
      ],
      "metadata": {
        "id": "K_iOLboVQl5u",
        "outputId": "0b582a3f-3b8d-4bf6-f784-0108908835e5",
        "colab": {
          "base_uri": "https://localhost:8080/"
        }
      },
      "execution_count": 7,
      "outputs": [
        {
          "output_type": "stream",
          "name": "stdout",
          "text": [
            "4\n"
          ]
        }
      ]
    },
    {
      "cell_type": "code",
      "source": [
        "train_images = train_images/ 255.\n",
        "test_images = test_images/ 255.\n",
        "\n",
        "i=646\n",
        "im = train_images[i,:,:]\n",
        "plt.imshow(im)\n",
        "print(f\"the label is: {labels[train_labels[i]]}\")"
      ],
      "metadata": {
        "id": "4oRGJhk7RUln",
        "outputId": "203e3305-09a0-4f4a-9c46-a8a95f3ecfb4",
        "colab": {
          "base_uri": "https://localhost:8080/",
          "height": 448
        }
      },
      "execution_count": 8,
      "outputs": [
        {
          "output_type": "stream",
          "name": "stdout",
          "text": [
            "the label is: 2\n"
          ]
        },
        {
          "output_type": "display_data",
          "data": {
            "text/plain": [
              "<Figure size 640x480 with 1 Axes>"
            ],
            "image/png": "[encoded data removed]"
          },
          "metadata": {}
        }
      ]
    },
    {
      "cell_type": "code",
      "source": [
        "history = model.fit(train_images[...,npp.newaxis], train_labels, validation_split=0.2, epochs=50, batch_size=2048, verbose=1)"
      ],
      "metadata": {
        "id": "Yd90QMLnUIW-",
        "colab": {
          "base_uri": "https://localhost:8080/"
        },
        "outputId": "c62b6877-a3b2-4035-efb4-03cf254da8fa"
      },
      "execution_count": 9,
      "outputs": [
        {
          "output_type": "stream",
          "name": "stdout",
          "text": [
            "Epoch 1/50\n",
            "24/24 [==============================] - 31s 1s/step - loss: 1.7258 - sparse_categorical_accuracy: 0.4981 - mean_absolute_error: 4.3698 - val_loss: 0.7750 - val_sparse_categorical_accuracy: 0.7711 - val_mean_absolute_error: 4.3890\n",
            "Epoch 2/50\n",
            "24/24 [==============================] - 21s 877ms/step - loss: 0.5365 - sparse_categorical_accuracy: 0.8325 - mean_absolute_error: 4.3698 - val_loss: 0.3374 - val_sparse_categorical_accuracy: 0.8961 - val_mean_absolute_error: 4.3890\n",
            "Epoch 3/50\n",
            "24/24 [==============================] - 19s 801ms/step - loss: 0.3104 - sparse_categorical_accuracy: 0.9041 - mean_absolute_error: 4.3698 - val_loss: 0.2361 - val_sparse_categorical_accuracy: 0.9292 - val_mean_absolute_error: 4.3890\n",
            "Epoch 4/50\n",
            "24/24 [==============================] - 21s 896ms/step - loss: 0.2337 - sparse_categorical_accuracy: 0.9278 - mean_absolute_error: 4.3698 - val_loss: 0.1930 - val_sparse_categorical_accuracy: 0.9399 - val_mean_absolute_error: 4.3890\n",
            "Epoch 5/50\n",
            "24/24 [==============================] - 19s 796ms/step - loss: 0.1927 - sparse_categorical_accuracy: 0.9396 - mean_absolute_error: 4.3698 - val_loss: 0.1654 - val_sparse_categorical_accuracy: 0.9487 - val_mean_absolute_error: 4.3890\n",
            "Epoch 6/50\n",
            "24/24 [==============================] - 22s 932ms/step - loss: 0.1675 - sparse_categorical_accuracy: 0.9485 - mean_absolute_error: 4.3698 - val_loss: 0.1517 - val_sparse_categorical_accuracy: 0.9518 - val_mean_absolute_error: 4.3890\n",
            "Epoch 7/50\n",
            "24/24 [==============================] - 20s 841ms/step - loss: 0.1495 - sparse_categorical_accuracy: 0.9538 - mean_absolute_error: 4.3698 - val_loss: 0.1312 - val_sparse_categorical_accuracy: 0.9598 - val_mean_absolute_error: 4.3890\n",
            "Epoch 8/50\n",
            "24/24 [==============================] - 21s 864ms/step - loss: 0.1351 - sparse_categorical_accuracy: 0.9578 - mean_absolute_error: 4.3698 - val_loss: 0.1228 - val_sparse_categorical_accuracy: 0.9611 - val_mean_absolute_error: 4.3890\n",
            "Epoch 9/50\n",
            "24/24 [==============================] - 21s 864ms/step - loss: 0.1260 - sparse_categorical_accuracy: 0.9612 - mean_absolute_error: 4.3698 - val_loss: 0.1217 - val_sparse_categorical_accuracy: 0.9623 - val_mean_absolute_error: 4.3890\n",
            "Epoch 10/50\n",
            "24/24 [==============================] - 19s 801ms/step - loss: 0.1201 - sparse_categorical_accuracy: 0.9628 - mean_absolute_error: 4.3698 - val_loss: 0.1118 - val_sparse_categorical_accuracy: 0.9643 - val_mean_absolute_error: 4.3890\n",
            "Epoch 11/50\n",
            "24/24 [==============================] - 21s 861ms/step - loss: 0.1109 - sparse_categorical_accuracy: 0.9652 - mean_absolute_error: 4.3698 - val_loss: 0.1042 - val_sparse_categorical_accuracy: 0.9664 - val_mean_absolute_error: 4.3890\n",
            "Epoch 12/50\n",
            "24/24 [==============================] - 20s 847ms/step - loss: 0.1059 - sparse_categorical_accuracy: 0.9669 - mean_absolute_error: 4.3698 - val_loss: 0.1032 - val_sparse_categorical_accuracy: 0.9677 - val_mean_absolute_error: 4.3890\n",
            "Epoch 13/50\n",
            "24/24 [==============================] - 21s 889ms/step - loss: 0.1012 - sparse_categorical_accuracy: 0.9684 - mean_absolute_error: 4.3698 - val_loss: 0.0982 - val_sparse_categorical_accuracy: 0.9687 - val_mean_absolute_error: 4.3890\n",
            "Epoch 14/50\n",
            "24/24 [==============================] - 20s 834ms/step - loss: 0.0965 - sparse_categorical_accuracy: 0.9703 - mean_absolute_error: 4.3698 - val_loss: 0.0929 - val_sparse_categorical_accuracy: 0.9706 - val_mean_absolute_error: 4.3890\n",
            "Epoch 15/50\n",
            "24/24 [==============================] - 20s 848ms/step - loss: 0.0925 - sparse_categorical_accuracy: 0.9712 - mean_absolute_error: 4.3698 - val_loss: 0.0915 - val_sparse_categorical_accuracy: 0.9723 - val_mean_absolute_error: 4.3890\n",
            "Epoch 16/50\n",
            "24/24 [==============================] - 20s 833ms/step - loss: 0.0900 - sparse_categorical_accuracy: 0.9721 - mean_absolute_error: 4.3698 - val_loss: 0.0877 - val_sparse_categorical_accuracy: 0.9713 - val_mean_absolute_error: 4.3890\n",
            "Epoch 17/50\n",
            "24/24 [==============================] - 21s 888ms/step - loss: 0.0869 - sparse_categorical_accuracy: 0.9728 - mean_absolute_error: 4.3698 - val_loss: 0.0855 - val_sparse_categorical_accuracy: 0.9728 - val_mean_absolute_error: 4.3890\n",
            "Epoch 18/50\n",
            "24/24 [==============================] - 19s 796ms/step - loss: 0.0832 - sparse_categorical_accuracy: 0.9740 - mean_absolute_error: 4.3698 - val_loss: 0.0828 - val_sparse_categorical_accuracy: 0.9740 - val_mean_absolute_error: 4.3890\n",
            "Epoch 19/50\n",
            "24/24 [==============================] - 20s 820ms/step - loss: 0.0807 - sparse_categorical_accuracy: 0.9752 - mean_absolute_error: 4.3698 - val_loss: 0.0805 - val_sparse_categorical_accuracy: 0.9751 - val_mean_absolute_error: 4.3890\n",
            "Epoch 20/50\n",
            "24/24 [==============================] - 20s 837ms/step - loss: 0.0779 - sparse_categorical_accuracy: 0.9756 - mean_absolute_error: 4.3698 - val_loss: 0.0795 - val_sparse_categorical_accuracy: 0.9739 - val_mean_absolute_error: 4.3890\n",
            "Epoch 21/50\n",
            "24/24 [==============================] - 20s 837ms/step - loss: 0.0782 - sparse_categorical_accuracy: 0.9754 - mean_absolute_error: 4.3698 - val_loss: 0.0769 - val_sparse_categorical_accuracy: 0.9756 - val_mean_absolute_error: 4.3890\n",
            "Epoch 22/50\n",
            "24/24 [==============================] - 22s 943ms/step - loss: 0.0754 - sparse_categorical_accuracy: 0.9765 - mean_absolute_error: 4.3698 - val_loss: 0.0756 - val_sparse_categorical_accuracy: 0.9750 - val_mean_absolute_error: 4.3890\n",
            "Epoch 23/50\n",
            "24/24 [==============================] - 20s 834ms/step - loss: 0.0719 - sparse_categorical_accuracy: 0.9771 - mean_absolute_error: 4.3698 - val_loss: 0.0739 - val_sparse_categorical_accuracy: 0.9765 - val_mean_absolute_error: 4.3890\n",
            "Epoch 24/50\n",
            "24/24 [==============================] - 20s 848ms/step - loss: 0.0702 - sparse_categorical_accuracy: 0.9774 - mean_absolute_error: 4.3698 - val_loss: 0.0716 - val_sparse_categorical_accuracy: 0.9783 - val_mean_absolute_error: 4.3890\n",
            "Epoch 25/50\n",
            "24/24 [==============================] - 20s 838ms/step - loss: 0.0716 - sparse_categorical_accuracy: 0.9774 - mean_absolute_error: 4.3698 - val_loss: 0.0765 - val_sparse_categorical_accuracy: 0.9749 - val_mean_absolute_error: 4.3890\n",
            "Epoch 26/50\n",
            "24/24 [==============================] - 20s 843ms/step - loss: 0.0685 - sparse_categorical_accuracy: 0.9788 - mean_absolute_error: 4.3698 - val_loss: 0.0703 - val_sparse_categorical_accuracy: 0.9779 - val_mean_absolute_error: 4.3890\n",
            "Epoch 27/50\n",
            "24/24 [==============================] - 19s 789ms/step - loss: 0.0658 - sparse_categorical_accuracy: 0.9792 - mean_absolute_error: 4.3698 - val_loss: 0.0697 - val_sparse_categorical_accuracy: 0.9778 - val_mean_absolute_error: 4.3890\n",
            "Epoch 28/50\n",
            "24/24 [==============================] - 21s 892ms/step - loss: 0.0658 - sparse_categorical_accuracy: 0.9788 - mean_absolute_error: 4.3698 - val_loss: 0.0677 - val_sparse_categorical_accuracy: 0.9794 - val_mean_absolute_error: 4.3890\n",
            "Epoch 29/50\n",
            "24/24 [==============================] - 19s 789ms/step - loss: 0.0637 - sparse_categorical_accuracy: 0.9801 - mean_absolute_error: 4.3698 - val_loss: 0.0679 - val_sparse_categorical_accuracy: 0.9787 - val_mean_absolute_error: 4.3890\n",
            "Epoch 30/50\n",
            "24/24 [==============================] - 20s 835ms/step - loss: 0.0635 - sparse_categorical_accuracy: 0.9803 - mean_absolute_error: 4.3698 - val_loss: 0.0674 - val_sparse_categorical_accuracy: 0.9793 - val_mean_absolute_error: 4.3890\n",
            "Epoch 31/50\n",
            "24/24 [==============================] - 20s 834ms/step - loss: 0.0636 - sparse_categorical_accuracy: 0.9797 - mean_absolute_error: 4.3698 - val_loss: 0.0669 - val_sparse_categorical_accuracy: 0.9799 - val_mean_absolute_error: 4.3890\n",
            "Epoch 32/50\n",
            "24/24 [==============================] - 20s 812ms/step - loss: 0.0614 - sparse_categorical_accuracy: 0.9803 - mean_absolute_error: 4.3698 - val_loss: 0.0710 - val_sparse_categorical_accuracy: 0.9793 - val_mean_absolute_error: 4.3890\n",
            "Epoch 33/50\n",
            "24/24 [==============================] - 19s 787ms/step - loss: 0.0607 - sparse_categorical_accuracy: 0.9807 - mean_absolute_error: 4.3698 - val_loss: 0.0683 - val_sparse_categorical_accuracy: 0.9792 - val_mean_absolute_error: 4.3890\n",
            "Epoch 34/50\n",
            "24/24 [==============================] - 20s 832ms/step - loss: 0.0593 - sparse_categorical_accuracy: 0.9818 - mean_absolute_error: 4.3698 - val_loss: 0.0642 - val_sparse_categorical_accuracy: 0.9804 - val_mean_absolute_error: 4.3890\n",
            "Epoch 35/50\n",
            "24/24 [==============================] - 19s 791ms/step - loss: 0.0585 - sparse_categorical_accuracy: 0.9814 - mean_absolute_error: 4.3698 - val_loss: 0.0641 - val_sparse_categorical_accuracy: 0.9808 - val_mean_absolute_error: 4.3890\n",
            "Epoch 36/50\n",
            "24/24 [==============================] - 21s 891ms/step - loss: 0.0558 - sparse_categorical_accuracy: 0.9820 - mean_absolute_error: 4.3698 - val_loss: 0.0640 - val_sparse_categorical_accuracy: 0.9800 - val_mean_absolute_error: 4.3890\n",
            "Epoch 37/50\n",
            "24/24 [==============================] - 20s 835ms/step - loss: 0.0554 - sparse_categorical_accuracy: 0.9825 - mean_absolute_error: 4.3698 - val_loss: 0.0670 - val_sparse_categorical_accuracy: 0.9798 - val_mean_absolute_error: 4.3890\n",
            "Epoch 38/50\n",
            "24/24 [==============================] - 19s 792ms/step - loss: 0.0555 - sparse_categorical_accuracy: 0.9827 - mean_absolute_error: 4.3698 - val_loss: 0.0646 - val_sparse_categorical_accuracy: 0.9801 - val_mean_absolute_error: 4.3890\n",
            "Epoch 39/50\n",
            "24/24 [==============================] - 20s 831ms/step - loss: 0.0548 - sparse_categorical_accuracy: 0.9825 - mean_absolute_error: 4.3698 - val_loss: 0.0617 - val_sparse_categorical_accuracy: 0.9810 - val_mean_absolute_error: 4.3890\n",
            "Epoch 40/50\n",
            "24/24 [==============================] - 19s 787ms/step - loss: 0.0548 - sparse_categorical_accuracy: 0.9827 - mean_absolute_error: 4.3698 - val_loss: 0.0633 - val_sparse_categorical_accuracy: 0.9816 - val_mean_absolute_error: 4.3890\n",
            "Epoch 41/50\n",
            "24/24 [==============================] - 19s 816ms/step - loss: 0.0533 - sparse_categorical_accuracy: 0.9834 - mean_absolute_error: 4.3698 - val_loss: 0.0633 - val_sparse_categorical_accuracy: 0.9810 - val_mean_absolute_error: 4.3890\n",
            "Epoch 42/50\n",
            "24/24 [==============================] - 21s 845ms/step - loss: 0.0517 - sparse_categorical_accuracy: 0.9835 - mean_absolute_error: 4.3698 - val_loss: 0.0619 - val_sparse_categorical_accuracy: 0.9815 - val_mean_absolute_error: 4.3890\n",
            "Epoch 43/50\n",
            "24/24 [==============================] - 23s 950ms/step - loss: 0.0524 - sparse_categorical_accuracy: 0.9837 - mean_absolute_error: 4.3698 - val_loss: 0.0644 - val_sparse_categorical_accuracy: 0.9812 - val_mean_absolute_error: 4.3890\n",
            "Epoch 44/50\n",
            "24/24 [==============================] - 19s 789ms/step - loss: 0.0533 - sparse_categorical_accuracy: 0.9831 - mean_absolute_error: 4.3698 - val_loss: 0.0640 - val_sparse_categorical_accuracy: 0.9795 - val_mean_absolute_error: 4.3890\n",
            "Epoch 45/50\n",
            "24/24 [==============================] - 20s 848ms/step - loss: 0.0538 - sparse_categorical_accuracy: 0.9828 - mean_absolute_error: 4.3698 - val_loss: 0.0616 - val_sparse_categorical_accuracy: 0.9810 - val_mean_absolute_error: 4.3890\n",
            "Epoch 46/50\n",
            "24/24 [==============================] - 20s 834ms/step - loss: 0.0499 - sparse_categorical_accuracy: 0.9845 - mean_absolute_error: 4.3698 - val_loss: 0.0616 - val_sparse_categorical_accuracy: 0.9815 - val_mean_absolute_error: 4.3890\n",
            "Epoch 47/50\n",
            "24/24 [==============================] - 20s 850ms/step - loss: 0.0492 - sparse_categorical_accuracy: 0.9849 - mean_absolute_error: 4.3698 - val_loss: 0.0600 - val_sparse_categorical_accuracy: 0.9816 - val_mean_absolute_error: 4.3890\n",
            "Epoch 48/50\n",
            "24/24 [==============================] - 20s 834ms/step - loss: 0.0486 - sparse_categorical_accuracy: 0.9850 - mean_absolute_error: 4.3698 - val_loss: 0.0581 - val_sparse_categorical_accuracy: 0.9822 - val_mean_absolute_error: 4.3890\n",
            "Epoch 49/50\n",
            "24/24 [==============================] - 20s 849ms/step - loss: 0.0475 - sparse_categorical_accuracy: 0.9854 - mean_absolute_error: 4.3698 - val_loss: 0.0599 - val_sparse_categorical_accuracy: 0.9817 - val_mean_absolute_error: 4.3890\n",
            "Epoch 50/50\n",
            "24/24 [==============================] - 20s 836ms/step - loss: 0.0478 - sparse_categorical_accuracy: 0.9851 - mean_absolute_error: 4.3698 - val_loss: 0.0574 - val_sparse_categorical_accuracy: 0.9827 - val_mean_absolute_error: 4.3890\n"
          ]
        }
      ]
    },
    {
      "cell_type": "code",
      "source": [
        "import matplotlib.pyplot as plt\n",
        "plt.figure(figsize=(8, 6))\n",
        "plt.plot(history.history['loss'])\n",
        "plt.plot(history.history['val_loss'])\n",
        "plt.title('Training and Validation Loss')\n",
        "plt.ylabel('Loss')\n",
        "plt.xlabel('Epochs')\n",
        "plt.legend(['Training Loss', 'Validation Loss'], loc='upper right')"
      ],
      "metadata": {
        "id": "veBNoFMnsY0c",
        "outputId": "5cb03e7c-9891-4681-bd8b-60d5ac1456f5",
        "colab": {
          "base_uri": "https://localhost:8080/",
          "height": 582
        }
      },
      "execution_count": 10,
      "outputs": [
        {
          "output_type": "execute_result",
          "data": {
            "text/plain": [
              "<matplotlib.legend.Legend at 0x7f68702736d0>"
            ]
          },
          "metadata": {},
          "execution_count": 10
        },
        {
          "output_type": "display_data",
          "data": {
            "text/plain": [
              "<Figure size 800x600 with 1 Axes>"
            ],
            "image/png": "[encoded data removed]"
          },
          "metadata": {}
        }
      ]
    },
    {
      "cell_type": "code",
      "source": [
        "plt.figure(figsize=(8, 6))\n",
        "plt.plot(history.history['sparse_categorical_accuracy'])\n",
        "plt.plot(history.history['val_sparse_categorical_accuracy'])\n",
        "plt.title('Training and Validaiton Accuracy')\n",
        "plt.ylabel('Accuracy')\n",
        "plt.xlabel('Epoch')\n",
        "plt.legend(['Training Accuracy', 'Validation Accuracy'], loc='lower right')\n",
        "plt.show() "
      ],
      "metadata": {
        "id": "Mp4IiJnmt_h9",
        "outputId": "476a416f-b378-4506-a6dc-53c89c4706d8",
        "colab": {
          "base_uri": "https://localhost:8080/",
          "height": 564
        }
      },
      "execution_count": 11,
      "outputs": [
        {
          "output_type": "display_data",
          "data": {
            "text/plain": [
              "<Figure size 800x600 with 1 Axes>"
            ],
            "image/png": "[encoded data removed]"
          },
          "metadata": {}
        }
      ]
    },
    {
      "cell_type": "code",
      "source": [
        "df = pdd.DataFrame(history.history)\n",
        "df.head()"
      ],
      "metadata": {
        "id": "k4Qh06BZZwVV",
        "outputId": "077b8195-01e4-49c8-b943-7323db5c7f12",
        "colab": {
          "base_uri": "https://localhost:8080/",
          "height": 206
        }
      },
      "execution_count": null,
      "outputs": [
        {
          "output_type": "execute_result",
          "data": {
            "text/plain": [
              "       loss  sparse_categorical_accuracy  mean_absolute_error\n",
              "0  0.482911                     0.850167             4.373677\n",
              "1  0.142328                     0.955550             4.373674\n",
              "2  0.108917                     0.966217             4.373675\n",
              "3  0.095366                     0.970067             4.373677\n",
              "4  0.084584                     0.973417             4.373677"
            ],
            "text/html": [
              "\n",
              "  <div id=\"df-1ca6990f-1ef2-4303-8823-d4051adf61d4\">\n",
              "    <div class=\"colab-df-container\">\n",
              "      <div>\n",
              "<style scoped>\n",
              "    .dataframe tbody tr th:only-of-type {\n",
              "        vertical-align: middle;\n",
              "    }\n",
              "\n",
              "    .dataframe tbody tr th {\n",
              "        vertical-align: top;\n",
              "    }\n",
              "\n",
              "    .dataframe thead th {\n",
              "        text-align: right;\n",
              "    }\n",
              "</style>\n",
              "<table border=\"1\" class=\"dataframe\">\n",
              "  <thead>\n",
              "    <tr style=\"text-align: right;\">\n",
              "      <th></th>\n",
              "      <th>loss</th>\n",
              "      <th>sparse_categorical_accuracy</th>\n",
              "      <th>mean_absolute_error</th>\n",
              "    </tr>\n",
              "  </thead>\n",
              "  <tbody>\n",
              "    <tr>\n",
              "      <th>0</th>\n",
              "      <td>0.482911</td>\n",
              "      <td>0.850167</td>\n",
              "      <td>4.373677</td>\n",
              "    </tr>\n",
              "    <tr>\n",
              "      <th>1</th>\n",
              "      <td>0.142328</td>\n",
              "      <td>0.955550</td>\n",
              "      <td>4.373674</td>\n",
              "    </tr>\n",
              "    <tr>\n",
              "      <th>2</th>\n",
              "      <td>0.108917</td>\n",
              "      <td>0.966217</td>\n",
              "      <td>4.373675</td>\n",
              "    </tr>\n",
              "    <tr>\n",
              "      <th>3</th>\n",
              "      <td>0.095366</td>\n",
              "      <td>0.970067</td>\n",
              "      <td>4.373677</td>\n",
              "    </tr>\n",
              "    <tr>\n",
              "      <th>4</th>\n",
              "      <td>0.084584</td>\n",
              "      <td>0.973417</td>\n",
              "      <td>4.373677</td>\n",
              "    </tr>\n",
              "  </tbody>\n",
              "</table>\n",
              "</div>\n",
              "      <button class=\"colab-df-convert\" onclick=\"convertToInteractive('df-1ca6990f-1ef2-4303-8823-d4051adf61d4')\"\n",
              "              title=\"Convert this dataframe to an interactive table.\"\n",
              "              style=\"display:none;\">\n",
              "        \n",
              "  <svg xmlns=\"http://www.w3.org/2000/svg\" height=\"24px\"viewBox=\"0 0 24 24\"\n",
              "       width=\"24px\">\n",
              "    <path d=\"M0 0h24v24H0V0z\" fill=\"none\"/>\n",
              "    <path d=\"M18.56 5.44l.94 2.06.94-2.06 2.06-.94-2.06-.94-.94-2.06-.94 2.06-2.06.94zm-11 1L8.5 8.5l.94-2.06 2.06-.94-2.06-.94L8.5 2.5l-.94 2.06-2.06.94zm10 10l.94 2.06.94-2.06 2.06-.94-2.06-.94-.94-2.06-.94 2.06-2.06.94z\"/><path d=\"M17.41 7.96l-1.37-1.37c-.4-.4-.92-.59-1.43-.59-.52 0-1.04.2-1.43.59L10.3 9.45l-7.72 7.72c-.78.78-.78 2.05 0 2.83L4 21.41c.39.39.9.59 1.41.59.51 0 1.02-.2 1.41-.59l7.78-7.78 2.81-2.81c.8-.78.8-2.07 0-2.86zM5.41 20L4 18.59l7.72-7.72 1.47 1.35L5.41 20z\"/>\n",
              "  </svg>\n",
              "      </button>\n",
              "      \n",
              "  <style>\n",
              "    .colab-df-container {\n",
              "      display:flex;\n",
              "      flex-wrap:wrap;\n",
              "      gap: 12px;\n",
              "    }\n",
              "\n",
              "    .colab-df-convert {\n",
              "      background-color: #E8F0FE;\n",
              "      border: none;\n",
              "      border-radius: 50%;\n",
              "      cursor: pointer;\n",
              "      display: none;\n",
              "      fill: #1967D2;\n",
              "      height: 32px;\n",
              "      padding: 0 0 0 0;\n",
              "      width: 32px;\n",
              "    }\n",
              "\n",
              "    .colab-df-convert:hover {\n",
              "      background-color: #E2EBFA;\n",
              "      box-shadow: 0px 1px 2px rgba(60, 64, 67, 0.3), 0px 1px 3px 1px rgba(60, 64, 67, 0.15);\n",
              "      fill: #174EA6;\n",
              "    }\n",
              "\n",
              "    [theme=dark] .colab-df-convert {\n",
              "      background-color: #3B4455;\n",
              "      fill: #D2E3FC;\n",
              "    }\n",
              "\n",
              "    [theme=dark] .colab-df-convert:hover {\n",
              "      background-color: #434B5C;\n",
              "      box-shadow: 0px 1px 3px 1px rgba(0, 0, 0, 0.15);\n",
              "      filter: drop-shadow(0px 1px 2px rgba(0, 0, 0, 0.3));\n",
              "      fill: #FFFFFF;\n",
              "    }\n",
              "  </style>\n",
              "\n",
              "      <script>\n",
              "        const buttonEl =\n",
              "          document.querySelector('#df-1ca6990f-1ef2-4303-8823-d4051adf61d4 button.colab-df-convert');\n",
              "        buttonEl.style.display =\n",
              "          google.colab.kernel.accessAllowed ? 'block' : 'none';\n",
              "\n",
              "        async function convertToInteractive(key) {\n",
              "          const element = document.querySelector('#df-1ca6990f-1ef2-4303-8823-d4051adf61d4');\n",
              "          const dataTable =\n",
              "            await google.colab.kernel.invokeFunction('convertToInteractive',\n",
              "                                                     [key], {});\n",
              "          if (!dataTable) return;\n",
              "\n",
              "          const docLinkHtml = 'Like what you see? Visit the ' +\n",
              "            '<a target=\"_blank\" href=https://colab.research.google.com/notebooks/data_table.ipynb>data table notebook</a>'\n",
              "            + ' to learn more about interactive tables.';\n",
              "          element.innerHTML = '';\n",
              "          dataTable['output_type'] = 'display_data';\n",
              "          await google.colab.output.renderOutput(dataTable, element);\n",
              "          const docLink = document.createElement('div');\n",
              "          docLink.innerHTML = docLinkHtml;\n",
              "          element.appendChild(docLink);\n",
              "        }\n",
              "      </script>\n",
              "    </div>\n",
              "  </div>\n",
              "  "
            ]
          },
          "metadata": {},
          "execution_count": 10
        }
      ]
    },
    {
      "cell_type": "code",
      "source": [
        "lossplot = df.plot(y=\"loss\", title=\"Loss vs Epochs\", legend=False)\n",
        "lossplot.set(xlabel=\"Epochs\", ylabel=\"Loss\")"
      ],
      "metadata": {
        "id": "1XV8w-gfaXWV",
        "outputId": "44cbdefb-af44-4f34-b69c-a01599c8f5f0",
        "colab": {
          "base_uri": "https://localhost:8080/",
          "height": 312
        }
      },
      "execution_count": null,
      "outputs": [
        {
          "output_type": "execute_result",
          "data": {
            "text/plain": [
              "[Text(0.5, 0, 'Epochs'), Text(0, 0.5, 'Loss')]"
            ]
          },
          "metadata": {},
          "execution_count": 11
        },
        {
          "output_type": "display_data",
          "data": {
            "text/plain": [
              "<Figure size 432x288 with 1 Axes>"
            ],
            "image/png": "[encoded data removed]"
          },
          "metadata": {
            "needs_background": "light"
          }
        }
      ]
    },
    {
      "cell_type": "code",
      "source": [
        "evaluation = model.evaluate(test_images, test_labels, verbose=1)"
      ],
      "metadata": {
        "id": "kedggxmmqPMS",
        "colab": {
          "base_uri": "https://localhost:8080/"
        },
        "outputId": "249aa64a-cfb6-48df-ad60-926c4bd8b290"
      },
      "execution_count": null,
      "outputs": [
        {
          "output_type": "stream",
          "name": "stdout",
          "text": [
            "313/313 [==============================] - 2s 6ms/step - loss: 0.0580 - sparse_categorical_accuracy: 0.9816 - mean_absolute_error: 4.3630\n"
          ]
        }
      ]
    },
    {
      "cell_type": "code",
      "source": [
        "idx = 939\n",
        "theimage= test_images[idx]\n",
        "plt.imshow(theimage)\n",
        "print(f\"Label: {labels[test_labels[idx]]}\")"
      ],
      "metadata": {
        "colab": {
          "base_uri": "https://localhost:8080/",
          "height": 282
        },
        "id": "VOyTFMrYtVNJ",
        "outputId": "0301a2d7-0d8e-497f-e6d7-94868e8db64a"
      },
      "execution_count": null,
      "outputs": [
        {
          "output_type": "stream",
          "name": "stdout",
          "text": [
            "Label: 2\n"
          ]
        },
        {
          "output_type": "display_data",
          "data": {
            "text/plain": [
              "<Figure size 432x288 with 1 Axes>"
            ],
            "image/png": "[encoded data removed]"
          },
          "metadata": {
            "needs_background": "light"
          }
        }
      ]
    },
    {
      "cell_type": "code",
      "source": [
        "pred = model.predict(theimage[npp.newaxis,...,npp.newaxis])\n",
        "print(f\"Prediction: {labels[npp.argmax(pred)]}\")"
      ],
      "metadata": {
        "colab": {
          "base_uri": "https://localhost:8080/"
        },
        "id": "eRsSDMrAr0hi",
        "outputId": "97e6d977-fe04-44d0-fe70-9a1b4f37724e"
      },
      "execution_count": null,
      "outputs": [
        {
          "output_type": "stream",
          "name": "stdout",
          "text": [
            "1/1 [==============================] - 0s 32ms/step\n",
            "Prediction: 2\n"
          ]
        }
      ]
    }
  ],
  "metadata": {
    "colab": {
      "provenance": [],
      "include_colab_link": true
    },
    "kernelspec": {
      "display_name": "Python 3",
      "name": "python3"
    }
  },
  "nbformat": 4,
  "nbformat_minor": 0
}