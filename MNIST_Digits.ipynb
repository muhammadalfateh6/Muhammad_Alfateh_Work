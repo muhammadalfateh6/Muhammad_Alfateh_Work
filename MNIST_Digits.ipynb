{
  "cells": [
    {
      "cell_type": "markdown",
      "metadata": {
        "id": "view-in-github",
        "colab_type": "text"
      },
      "source": [
        "<a href=\"https://colab.research.google.com/github/muhammadalfateh6/Muhammad_Alfateh_Work/blob/main/MNIST_Digits.ipynb\" target=\"_parent\"><img src=\"https://colab.research.google.com/assets/colab-badge.svg\" alt=\"Open In Colab\"/></a>"
      ]
    },
    {
      "cell_type": "code",
      "source": [
        "import tensorflow as tf\n",
        "from tensorflow.keras.models import Sequential\n",
        "from tensorflow.keras.layers import Dense, Conv2D, Flatten, MaxPool2D\n",
        "import matplotlib.pyplot as plt\n",
        "import numpy as npp\n",
        "import pandas as pdd"
      ],
      "metadata": {
        "id": "EXzYqzLGFe5N"
      },
      "execution_count": 1,
      "outputs": []
    },
    {
      "cell_type": "code",
      "source": [
        "model = Sequential([\n",
        "    Conv2D(16, (3,3), input_shape=(28,28,1), padding='same', strides=1, activation='relu'),\n",
        "    MaxPool2D((3,3)),\n",
        "    Conv2D(8, (3,3), padding='same', strides=1, activation='relu'),\n",
        "    MaxPool2D((3,3)),\n",
        "    Flatten(),\n",
        "    Dense(10, activation='softmax')\n",
        "])\n"
      ],
      "metadata": {
        "id": "3dHTfaUYF6mq"
      },
      "execution_count": 2,
      "outputs": []
    },
    {
      "cell_type": "code",
      "source": [
        "opt = tf.keras.optimizers.Adam(learning_rate=0.005)\n",
        "acc = tf.keras.metrics.SparseCategoricalAccuracy()\n",
        "mae = tf.keras.metrics.MeanAbsoluteError()\n",
        "model.compile(optimizer=opt,\n",
        "              loss ='sparse_categorical_crossentropy',\n",
        "              metrics=[acc, mae])"
      ],
      "metadata": {
        "id": "98NKV6ktJaTh"
      },
      "execution_count": 3,
      "outputs": []
    },
    {
      "cell_type": "code",
      "source": [
        "mnist =tf.keras.datasets.mnist #tf.keras.datasets.fashion_mnist \n",
        "(train_images, train_labels), (test_images, test_labels) = mnist.load_data() "
      ],
      "metadata": {
        "id": "pclSNEgHL8Rw",
        "outputId": "13b03d96-fae8-4a2a-95b9-ae484a3319af",
        "colab": {
          "base_uri": "https://localhost:8080/"
        }
      },
      "execution_count": 4,
      "outputs": [
        {
          "output_type": "stream",
          "name": "stdout",
          "text": [
            "Downloading data from https://storage.googleapis.com/tensorflow/tf-keras-datasets/mnist.npz\n",
            "11490434/11490434 [==============================] - 0s 0us/step\n"
          ]
        }
      ]
    },
    {
      "cell_type": "code",
      "source": [
        "test_images.shape"
      ],
      "metadata": {
        "id": "efWiPRy6M7qY",
        "outputId": "6dbadd12-4924-4fbf-ee9d-12020772ea01",
        "colab": {
          "base_uri": "https://localhost:8080/"
        }
      },
      "execution_count": 6,
      "outputs": [
        {
          "output_type": "execute_result",
          "data": {
            "text/plain": [
              "(10000, 28, 28)"
            ]
          },
          "metadata": {},
          "execution_count": 6
        }
      ]
    },
    {
      "cell_type": "code",
      "source": [
        "train_images.shape"
      ],
      "metadata": {
        "id": "2uHhX1fcN0SX",
        "outputId": "cc6678e8-f952-4012-c384-d8bf2a081ba8",
        "colab": {
          "base_uri": "https://localhost:8080/"
        }
      },
      "execution_count": 7,
      "outputs": [
        {
          "output_type": "execute_result",
          "data": {
            "text/plain": [
              "(60000, 28, 28)"
            ]
          },
          "metadata": {},
          "execution_count": 7
        }
      ]
    },
    {
      "cell_type": "code",
      "source": [
        "labels = [\n",
        "    '0',\n",
        "    '1',\n",
        "    '2',\n",
        "    '3',\n",
        "    '4',\n",
        "    '5',\n",
        "    '6',\n",
        "    '7',\n",
        "    '8',\n",
        "    '9'\n",
        "]\n",
        "print(train_labels[53])"
      ],
      "metadata": {
        "id": "K_iOLboVQl5u",
        "outputId": "7b9a772a-8c16-4d08-d92b-1713d332eed6",
        "colab": {
          "base_uri": "https://localhost:8080/"
        }
      },
      "execution_count": 5,
      "outputs": [
        {
          "output_type": "stream",
          "name": "stdout",
          "text": [
            "4\n"
          ]
        }
      ]
    },
    {
      "cell_type": "code",
      "source": [
        "train_images = train_images/ 255.\n",
        "test_images = test_images/ 255.\n",
        "\n",
        "i=646\n",
        "im = train_images[i,:,:]\n",
        "plt.imshow(im)\n",
        "print(f\"the label is: {labels[train_labels[i]]}\")"
      ],
      "metadata": {
        "id": "4oRGJhk7RUln",
        "outputId": "b617156c-b470-413e-e461-8f91d48fb05a",
        "colab": {
          "base_uri": "https://localhost:8080/",
          "height": 282
        }
      },
      "execution_count": 8,
      "outputs": [
        {
          "output_type": "stream",
          "name": "stdout",
          "text": [
            "the label is: 2\n"
          ]
        },
        {
          "output_type": "display_data",
          "data": {
            "text/plain": [
              "<Figure size 432x288 with 1 Axes>"
            ],
            "image/png": "[encoded data removed]"
          },
          "metadata": {
            "needs_background": "light"
          }
        }
      ]
    },
    {
      "cell_type": "code",
      "source": [
        "history = model.fit(train_images[...,npp.newaxis], train_labels, epochs=8, batch_size=256, verbose=1)"
      ],
      "metadata": {
        "id": "Yd90QMLnUIW-",
        "colab": {
          "base_uri": "https://localhost:8080/"
        },
        "outputId": "cac60086-78d4-4f9f-b449-32cfcade12f0"
      },
      "execution_count": 9,
      "outputs": [
        {
          "output_type": "stream",
          "name": "stdout",
          "text": [
            "Epoch 1/8\n",
            "235/235 [==============================] - 22s 91ms/step - loss: 0.4829 - sparse_categorical_accuracy: 0.8502 - mean_absolute_error: 4.3737\n",
            "Epoch 2/8\n",
            "235/235 [==============================] - 21s 91ms/step - loss: 0.1423 - sparse_categorical_accuracy: 0.9556 - mean_absolute_error: 4.3737\n",
            "Epoch 3/8\n",
            "235/235 [==============================] - 21s 90ms/step - loss: 0.1089 - sparse_categorical_accuracy: 0.9662 - mean_absolute_error: 4.3737\n",
            "Epoch 4/8\n",
            "235/235 [==============================] - 20s 84ms/step - loss: 0.0954 - sparse_categorical_accuracy: 0.9701 - mean_absolute_error: 4.3737\n",
            "Epoch 5/8\n",
            "235/235 [==============================] - 21s 89ms/step - loss: 0.0846 - sparse_categorical_accuracy: 0.9734 - mean_absolute_error: 4.3737\n",
            "Epoch 6/8\n",
            "235/235 [==============================] - 20s 84ms/step - loss: 0.0809 - sparse_categorical_accuracy: 0.9753 - mean_absolute_error: 4.3737\n",
            "Epoch 7/8\n",
            "235/235 [==============================] - 21s 89ms/step - loss: 0.0734 - sparse_categorical_accuracy: 0.9768 - mean_absolute_error: 4.3737\n",
            "Epoch 8/8\n",
            "235/235 [==============================] - 21s 90ms/step - loss: 0.0696 - sparse_categorical_accuracy: 0.9778 - mean_absolute_error: 4.3737\n"
          ]
        }
      ]
    },
    {
      "cell_type": "code",
      "source": [
        "df = pdd.DataFrame(history.history)\n",
        "df.head()"
      ],
      "metadata": {
        "id": "k4Qh06BZZwVV",
        "outputId": "077b8195-01e4-49c8-b943-7323db5c7f12",
        "colab": {
          "base_uri": "https://localhost:8080/",
          "height": 206
        }
      },
      "execution_count": 10,
      "outputs": [
        {
          "output_type": "execute_result",
          "data": {
            "text/plain": [
              "       loss  sparse_categorical_accuracy  mean_absolute_error\n",
              "0  0.482911                     0.850167             4.373677\n",
              "1  0.142328                     0.955550             4.373674\n",
              "2  0.108917                     0.966217             4.373675\n",
              "3  0.095366                     0.970067             4.373677\n",
              "4  0.084584                     0.973417             4.373677"
            ],
            "text/html": [
              "\n",
              "  <div id=\"df-1ca6990f-1ef2-4303-8823-d4051adf61d4\">\n",
              "    <div class=\"colab-df-container\">\n",
              "      <div>\n",
              "<style scoped>\n",
              "    .dataframe tbody tr th:only-of-type {\n",
              "        vertical-align: middle;\n",
              "    }\n",
              "\n",
              "    .dataframe tbody tr th {\n",
              "        vertical-align: top;\n",
              "    }\n",
              "\n",
              "    .dataframe thead th {\n",
              "        text-align: right;\n",
              "    }\n",
              "</style>\n",
              "<table border=\"1\" class=\"dataframe\">\n",
              "  <thead>\n",
              "    <tr style=\"text-align: right;\">\n",
              "      <th></th>\n",
              "      <th>loss</th>\n",
              "      <th>sparse_categorical_accuracy</th>\n",
              "      <th>mean_absolute_error</th>\n",
              "    </tr>\n",
              "  </thead>\n",
              "  <tbody>\n",
              "    <tr>\n",
              "      <th>0</th>\n",
              "      <td>0.482911</td>\n",
              "      <td>0.850167</td>\n",
              "      <td>4.373677</td>\n",
              "    </tr>\n",
              "    <tr>\n",
              "      <th>1</th>\n",
              "      <td>0.142328</td>\n",
              "      <td>0.955550</td>\n",
              "      <td>4.373674</td>\n",
              "    </tr>\n",
              "    <tr>\n",
              "      <th>2</th>\n",
              "      <td>0.108917</td>\n",
              "      <td>0.966217</td>\n",
              "      <td>4.373675</td>\n",
              "    </tr>\n",
              "    <tr>\n",
              "      <th>3</th>\n",
              "      <td>0.095366</td>\n",
              "      <td>0.970067</td>\n",
              "      <td>4.373677</td>\n",
              "    </tr>\n",
              "    <tr>\n",
              "      <th>4</th>\n",
              "      <td>0.084584</td>\n",
              "      <td>0.973417</td>\n",
              "      <td>4.373677</td>\n",
              "    </tr>\n",
              "  </tbody>\n",
              "</table>\n",
              "</div>\n",
              "      <button class=\"colab-df-convert\" onclick=\"convertToInteractive('df-1ca6990f-1ef2-4303-8823-d4051adf61d4')\"\n",
              "              title=\"Convert this dataframe to an interactive table.\"\n",
              "              style=\"display:none;\">\n",
              "        \n",
              "  <svg xmlns=\"http://www.w3.org/2000/svg\" height=\"24px\"viewBox=\"0 0 24 24\"\n",
              "       width=\"24px\">\n",
              "    <path d=\"M0 0h24v24H0V0z\" fill=\"none\"/>\n",
              "    <path d=\"M18.56 5.44l.94 2.06.94-2.06 2.06-.94-2.06-.94-.94-2.06-.94 2.06-2.06.94zm-11 1L8.5 8.5l.94-2.06 2.06-.94-2.06-.94L8.5 2.5l-.94 2.06-2.06.94zm10 10l.94 2.06.94-2.06 2.06-.94-2.06-.94-.94-2.06-.94 2.06-2.06.94z\"/><path d=\"M17.41 7.96l-1.37-1.37c-.4-.4-.92-.59-1.43-.59-.52 0-1.04.2-1.43.59L10.3 9.45l-7.72 7.72c-.78.78-.78 2.05 0 2.83L4 21.41c.39.39.9.59 1.41.59.51 0 1.02-.2 1.41-.59l7.78-7.78 2.81-2.81c.8-.78.8-2.07 0-2.86zM5.41 20L4 18.59l7.72-7.72 1.47 1.35L5.41 20z\"/>\n",
              "  </svg>\n",
              "      </button>\n",
              "      \n",
              "  <style>\n",
              "    .colab-df-container {\n",
              "      display:flex;\n",
              "      flex-wrap:wrap;\n",
              "      gap: 12px;\n",
              "    }\n",
              "\n",
              "    .colab-df-convert {\n",
              "      background-color: #E8F0FE;\n",
              "      border: none;\n",
              "      border-radius: 50%;\n",
              "      cursor: pointer;\n",
              "      display: none;\n",
              "      fill: #1967D2;\n",
              "      height: 32px;\n",
              "      padding: 0 0 0 0;\n",
              "      width: 32px;\n",
              "    }\n",
              "\n",
              "    .colab-df-convert:hover {\n",
              "      background-color: #E2EBFA;\n",
              "      box-shadow: 0px 1px 2px rgba(60, 64, 67, 0.3), 0px 1px 3px 1px rgba(60, 64, 67, 0.15);\n",
              "      fill: #174EA6;\n",
              "    }\n",
              "\n",
              "    [theme=dark] .colab-df-convert {\n",
              "      background-color: #3B4455;\n",
              "      fill: #D2E3FC;\n",
              "    }\n",
              "\n",
              "    [theme=dark] .colab-df-convert:hover {\n",
              "      background-color: #434B5C;\n",
              "      box-shadow: 0px 1px 3px 1px rgba(0, 0, 0, 0.15);\n",
              "      filter: drop-shadow(0px 1px 2px rgba(0, 0, 0, 0.3));\n",
              "      fill: #FFFFFF;\n",
              "    }\n",
              "  </style>\n",
              "\n",
              "      <script>\n",
              "        const buttonEl =\n",
              "          document.querySelector('#df-1ca6990f-1ef2-4303-8823-d4051adf61d4 button.colab-df-convert');\n",
              "        buttonEl.style.display =\n",
              "          google.colab.kernel.accessAllowed ? 'block' : 'none';\n",
              "\n",
              "        async function convertToInteractive(key) {\n",
              "          const element = document.querySelector('#df-1ca6990f-1ef2-4303-8823-d4051adf61d4');\n",
              "          const dataTable =\n",
              "            await google.colab.kernel.invokeFunction('convertToInteractive',\n",
              "                                                     [key], {});\n",
              "          if (!dataTable) return;\n",
              "\n",
              "          const docLinkHtml = 'Like what you see? Visit the ' +\n",
              "            '<a target=\"_blank\" href=https://colab.research.google.com/notebooks/data_table.ipynb>data table notebook</a>'\n",
              "            + ' to learn more about interactive tables.';\n",
              "          element.innerHTML = '';\n",
              "          dataTable['output_type'] = 'display_data';\n",
              "          await google.colab.output.renderOutput(dataTable, element);\n",
              "          const docLink = document.createElement('div');\n",
              "          docLink.innerHTML = docLinkHtml;\n",
              "          element.appendChild(docLink);\n",
              "        }\n",
              "      </script>\n",
              "    </div>\n",
              "  </div>\n",
              "  "
            ]
          },
          "metadata": {},
          "execution_count": 10
        }
      ]
    },
    {
      "cell_type": "code",
      "source": [
        "lossplot = df.plot(y=\"loss\", title=\"Loss vs Epochs\", legend=False)\n",
        "lossplot.set(xlabel=\"Epochs\", ylabel=\"Loss\")"
      ],
      "metadata": {
        "id": "1XV8w-gfaXWV",
        "outputId": "44cbdefb-af44-4f34-b69c-a01599c8f5f0",
        "colab": {
          "base_uri": "https://localhost:8080/",
          "height": 312
        }
      },
      "execution_count": 11,
      "outputs": [
        {
          "output_type": "execute_result",
          "data": {
            "text/plain": [
              "[Text(0.5, 0, 'Epochs'), Text(0, 0.5, 'Loss')]"
            ]
          },
          "metadata": {},
          "execution_count": 11
        },
        {
          "output_type": "display_data",
          "data": {
            "text/plain": [
              "<Figure size 432x288 with 1 Axes>"
            ],
            "image/png": "[encoded data removed]"
          },
          "metadata": {
            "needs_background": "light"
          }
        }
      ]
    },
    {
      "cell_type": "code",
      "source": [
        "evaluation = model.evaluate(test_images, test_labels, verbose=1)"
      ],
      "metadata": {
        "id": "kedggxmmqPMS",
        "colab": {
          "base_uri": "https://localhost:8080/"
        },
        "outputId": "249aa64a-cfb6-48df-ad60-926c4bd8b290"
      },
      "execution_count": 12,
      "outputs": [
        {
          "output_type": "stream",
          "name": "stdout",
          "text": [
            "313/313 [==============================] - 2s 6ms/step - loss: 0.0580 - sparse_categorical_accuracy: 0.9816 - mean_absolute_error: 4.3630\n"
          ]
        }
      ]
    },
    {
      "cell_type": "code",
      "source": [
        "idx = 939\n",
        "theimage= test_images[idx]\n",
        "plt.imshow(theimage)\n",
        "print(f\"Label: {labels[test_labels[idx]]}\")"
      ],
      "metadata": {
        "colab": {
          "base_uri": "https://localhost:8080/",
          "height": 282
        },
        "id": "VOyTFMrYtVNJ",
        "outputId": "0301a2d7-0d8e-497f-e6d7-94868e8db64a"
      },
      "execution_count": 18,
      "outputs": [
        {
          "output_type": "stream",
          "name": "stdout",
          "text": [
            "Label: 2\n"
          ]
        },
        {
          "output_type": "display_data",
          "data": {
            "text/plain": [
              "<Figure size 432x288 with 1 Axes>"
            ],
            "image/png": "[encoded data removed]"
          },
          "metadata": {
            "needs_background": "light"
          }
        }
      ]
    },
    {
      "cell_type": "code",
      "source": [
        "pred = model.predict(theimage[npp.newaxis,...,npp.newaxis])\n",
        "print(f\"Prediction: {labels[npp.argmax(pred)]}\")"
      ],
      "metadata": {
        "colab": {
          "base_uri": "https://localhost:8080/"
        },
        "id": "eRsSDMrAr0hi",
        "outputId": "97e6d977-fe04-44d0-fe70-9a1b4f37724e"
      },
      "execution_count": 19,
      "outputs": [
        {
          "output_type": "stream",
          "name": "stdout",
          "text": [
            "1/1 [==============================] - 0s 32ms/step\n",
            "Prediction: 2\n"
          ]
        }
      ]
    }
  ],
  "metadata": {
    "colab": {
      "provenance": [],
      "include_colab_link": true
    },
    "kernelspec": {
      "display_name": "Python 3",
      "name": "python3"
    }
  },
  "nbformat": 4,
  "nbformat_minor": 0
}