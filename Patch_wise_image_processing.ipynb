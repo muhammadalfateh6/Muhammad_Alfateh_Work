{
  "cells": [
    {
      "cell_type": "markdown",
      "metadata": {
        "id": "view-in-github",
        "colab_type": "text"
      },
      "source": [
        "<a href=\"https://colab.research.google.com/github/muhammadalfateh6/Muhammad_Alfateh_Work/blob/main/Patch_wise_image_processing.ipynb\" target=\"_parent\"><img src=\"https://colab.research.google.com/assets/colab-badge.svg\" alt=\"Open In Colab\"/></a>"
      ]
    },
    {
      "cell_type": "code",
      "source": [
        "import tensorflow as tf\n",
        "import numpy as np\n",
        "import cv2\n",
        "import glob\n",
        "\n",
        "# load images\n",
        "image_paths = glob.glob('images/*.jpg') # path to image directory\n",
        "images = []\n",
        "for path in image_paths:\n",
        "    image = cv2.imread(path)\n",
        "    images.append(image)\n",
        "\n",
        "# set patch size\n",
        "patch_size = 128\n",
        "\n",
        "# extract patches from images\n",
        "patches = []\n",
        "for image in images:\n",
        "    for y in range(0, image.shape[0], patch_size):\n",
        "        for x in range(0, image.shape[1], patch_size):\n",
        "            patch = image[y:y+patch_size, x:x+patch_size]\n",
        "            patches.append(patch)\n",
        "\n",
        "# convert patches to array and normalize pixel values\n",
        "patches = np.array(patches)\n",
        "patches = patches.astype('float32') / 255.0\n",
        "\n",
        "# define CNN model\n",
        "model = tf.keras.Sequential([\n",
        "    tf.keras.layers.Conv2D(32, (3, 3), activation='relu', input_shape=(patch_size, patch_size, 3)),\n",
        "    tf.keras.layers.MaxPooling2D((2, 2)),\n",
        "    tf.keras.layers.Conv2D(64, (3, 3), activation='relu'),\n",
        "    tf.keras.layers.MaxPooling2D((2, 2)),\n",
        "    tf.keras.layers.Flatten(),\n",
        "    tf.keras.layers.Dense(64, activation='relu'),\n",
        "    tf.keras.layers.Dense(1, activation='sigmoid')\n",
        "])\n",
        "\n",
        "# compile model\n",
        "model.compile(optimizer='adam',\n",
        "              loss='binary_crossentropy',\n",
        "              metrics=['accuracy'])\n",
        "\n",
        "# create labels for patches (assuming binary classification)\n",
        "labels = np.array([0, 1] * (len(patches) // 2))\n",
        "\n",
        "# train model on patches\n",
        "model.fit(patches, labels, epochs=10, batch_size=32)\n",
        "\n",
        "# make predictions on new patches\n",
        "new_patches = [...] # load or extract new patches\n",
        "predictions = model.predict(new_patches)"
      ],
      "metadata": {
        "id": "jtbvB_Vyo5rk"
      },
      "execution_count": null,
      "outputs": []
    }
  ],
  "metadata": {
    "colab": {
      "toc_visible": true,
      "provenance": [],
      "include_colab_link": true
    },
    "kernelspec": {
      "display_name": "Python 3",
      "name": "python3"
    }
  },
  "nbformat": 4,
  "nbformat_minor": 0
}