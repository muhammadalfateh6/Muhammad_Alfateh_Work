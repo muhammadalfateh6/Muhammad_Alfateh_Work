{
  "cells": [
    {
      "cell_type": "markdown",
      "metadata": {
        "id": "view-in-github",
        "colab_type": "text"
      },
      "source": [
        "<a href=\"https://colab.research.google.com/github/muhammadalfateh6/Muhammad_Alfateh_Work/blob/main/Reducing_Overfitting_Regularization_Dropout_callbacks.ipynb\" target=\"_parent\"><img src=\"https://colab.research.google.com/assets/colab-badge.svg\" alt=\"Open In Colab\"/></a>"
      ]
    },
    {
      "cell_type": "code",
      "source": [
        "import tensorflow as tf\n",
        "import pandas as pd\n",
        "from tensorflow.keras.layers import Dropout, Dense, BatchNormalization\n",
        "from tensorflow.keras import regularizers\n",
        "from tensorflow.keras.models import Sequential\n",
        "from tensorflow.keras.callbacks import Callback\n",
        "from tensorflow.keras.callbacks import EarlyStopping"
      ],
      "metadata": {
        "id": "lnWMZyU3i-xZ"
      },
      "execution_count": null,
      "outputs": []
    },
    {
      "cell_type": "code",
      "source": [
        "tf.__version__"
      ],
      "metadata": {
        "id": "Pg6CA8KQ0kN5",
        "colab": {
          "base_uri": "https://localhost:8080/",
          "height": 36
        },
        "outputId": "745116c4-bb5b-46f5-d77a-88f3c5abfae6"
      },
      "execution_count": null,
      "outputs": [
        {
          "output_type": "execute_result",
          "data": {
            "text/plain": [
              "'2.9.2'"
            ],
            "application/vnd.google.colaboratory.intrinsic+json": {
              "type": "string"
            }
          },
          "metadata": {},
          "execution_count": 3
        }
      ]
    },
    {
      "cell_type": "code",
      "source": [
        "from sklearn.datasets import load_diabetes\n",
        "dataset = load_diabetes()\n",
        "print(dataset[\"DESCR\"])"
      ],
      "metadata": {
        "id": "LcxD23oVjNwq",
        "outputId": "bd5a9b90-2b45-4ff9-b57a-ba3798c6a597",
        "colab": {
          "base_uri": "https://localhost:8080/"
        }
      },
      "execution_count": null,
      "outputs": [
        {
          "output_type": "stream",
          "name": "stdout",
          "text": [
            ".. _diabetes_dataset:\n",
            "\n",
            "Diabetes dataset\n",
            "----------------\n",
            "\n",
            "Ten baseline variables, age, sex, body mass index, average blood\n",
            "pressure, and six blood serum measurements were obtained for each of n =\n",
            "442 diabetes patients, as well as the response of interest, a\n",
            "quantitative measure of disease progression one year after baseline.\n",
            "\n",
            "**Data Set Characteristics:**\n",
            "\n",
            "  :Number of Instances: 442\n",
            "\n",
            "  :Number of Attributes: First 10 columns are numeric predictive values\n",
            "\n",
            "  :Target: Column 11 is a quantitative measure of disease progression one year after baseline\n",
            "\n",
            "  :Attribute Information:\n",
            "      - age     age in years\n",
            "      - sex\n",
            "      - bmi     body mass index\n",
            "      - bp      average blood pressure\n",
            "      - s1      tc, total serum cholesterol\n",
            "      - s2      ldl, low-density lipoproteins\n",
            "      - s3      hdl, high-density lipoproteins\n",
            "      - s4      tch, total cholesterol / HDL\n",
            "      - s5      ltg, possibly log of serum triglycerides level\n",
            "      - s6      glu, blood sugar level\n",
            "\n",
            "Note: Each of these 10 feature variables have been mean centered and scaled by the standard deviation times `n_samples` (i.e. the sum of squares of each column totals 1).\n",
            "\n",
            "Source URL:\n",
            "https://www4.stat.ncsu.edu/~boos/var.select/diabetes.html\n",
            "\n",
            "For more information see:\n",
            "Bradley Efron, Trevor Hastie, Iain Johnstone and Robert Tibshirani (2004) \"Least Angle Regression,\" Annals of Statistics (with discussion), 407-499.\n",
            "(https://web.stanford.edu/~hastie/Papers/LARS/LeastAngle_2002.pdf)\n"
          ]
        }
      ]
    },
    {
      "cell_type": "code",
      "source": [
        "print(dataset.keys())"
      ],
      "metadata": {
        "id": "CVkHUROOkSLr",
        "outputId": "99a0be67-ac3a-49d1-9980-b54e022a1198",
        "colab": {
          "base_uri": "https://localhost:8080/"
        }
      },
      "execution_count": null,
      "outputs": [
        {
          "output_type": "stream",
          "name": "stdout",
          "text": [
            "dict_keys(['data', 'target', 'frame', 'DESCR', 'feature_names', 'data_filename', 'target_filename', 'data_module'])\n"
          ]
        }
      ]
    },
    {
      "cell_type": "code",
      "source": [
        "data = dataset[\"data\"]\n",
        "target = dataset[\"target\"]\n",
        "target = (target - target.mean(axis=0)) / target.std()"
      ],
      "metadata": {
        "id": "lwrFgXGrkm4p"
      },
      "execution_count": null,
      "outputs": []
    },
    {
      "cell_type": "code",
      "source": [
        "from sklearn.model_selection import train_test_split\n",
        "train_data, test_data, train_target, test_target = train_test_split(data, target, test_size=0.1)\n",
        "print(train_data.shape)\n",
        "print(test_data.shape)\n",
        "print(test_target.shape)"
      ],
      "metadata": {
        "id": "b-TzqYEBlid9",
        "outputId": "95ecd4f0-0b42-4f37-dee3-cdbc1145dbba",
        "colab": {
          "base_uri": "https://localhost:8080/"
        }
      },
      "execution_count": null,
      "outputs": [
        {
          "output_type": "stream",
          "name": "stdout",
          "text": [
            "(397, 10)\n",
            "(45, 10)\n",
            "(45,)\n"
          ]
        }
      ]
    },
    {
      "cell_type": "code",
      "source": [
        "def get_model_regular(rr, rate):\n",
        "  model = Sequential ([\n",
        "      Dense(128,kernel_regularizer =regularizers.l2(rr), activation ='relu', input_shape =(train_data.shape[1],)),\n",
        "      BatchNormalization(),\n",
        "      Dropout(rate),\n",
        "      Dense(128,kernel_regularizer =regularizers.l2(rr), activation ='relu'),\n",
        "      BatchNormalization(),\n",
        "      Dropout(rate),\n",
        "      Dense(128,kernel_regularizer =regularizers.l2(rr), activation ='relu'),\n",
        "      BatchNormalization(),\n",
        "      Dropout(rate),\n",
        "      Dense(128,kernel_regularizer =regularizers.l2(rr), activation ='relu'),\n",
        "      BatchNormalization(),\n",
        "      Dropout(rate),\n",
        "      Dense(128,kernel_regularizer =regularizers.l2(rr), activation ='relu'),\n",
        "      BatchNormalization(),\n",
        "      Dropout(rate),\n",
        "      Dense(128,kernel_regularizer =regularizers.l2(rr), activation ='relu'),\n",
        "      BatchNormalization(),\n",
        "      Dropout(rate),\n",
        "      Dense(1)\n",
        "  ])\n",
        "  return model\n"
      ],
      "metadata": {
        "id": "zYiV_4JIm5ph"
      },
      "execution_count": null,
      "outputs": []
    },
    {
      "cell_type": "code",
      "source": [
        "class Trainingcallback(Callback):\n",
        "\n",
        "  def on_train_begin(self, logs=None):\n",
        "    print(\"starting training....!!!!\")\n",
        "  def on_epoch_begin(self, epoch, logs=None):\n",
        "    print(f\"starting epoch  {epoch}\")\n",
        "  def on_train_batch_begin(self, batch, logs=None):\n",
        "    print(f\"Training batch: starting {batch}\")\n",
        "  def on_train_batch_end(self, batch, logs=None):\n",
        "    print(f\"Training batch: ending {batch}\")\n",
        "  def on_epoch_end(self, epoch, logs=None):\n",
        "    print(f\"Finished epoch {epoch}\")\n",
        "  def on_train_end(self, logs=None):\n",
        "    print(\"خلصت التعلم\")\n"
      ],
      "metadata": {
        "id": "pjyLwUKtckx2"
      },
      "execution_count": null,
      "outputs": []
    },
    {
      "cell_type": "code",
      "source": [
        "modelr =get_model_regular(1e-5, 0.5)\n"
      ],
      "metadata": {
        "id": "F1d6K-NJmO3p"
      },
      "execution_count": null,
      "outputs": []
    },
    {
      "cell_type": "code",
      "source": [
        "modelr.compile(optimizer='adam', loss='mse')\n",
        "modelr.fit(train_data, train_target, epochs=100, validation_split=0.15, batch_size=64, verbose=1, callbacks=[tf.keras.callbacks.EarlyStopping(patience=2)])"
      ],
      "metadata": {
        "id": "O6Jb6Hzxol1q",
        "colab": {
          "base_uri": "https://localhost:8080/"
        },
        "outputId": "af6b78ee-1bba-4f7d-b57c-beceda9b0b87"
      },
      "execution_count": null,
      "outputs": [
        {
          "output_type": "stream",
          "name": "stdout",
          "text": [
            "Epoch 1/100\n",
            "6/6 [==============================] - 2s 65ms/step - loss: 0.4255 - val_loss: 0.5760\n",
            "Epoch 2/100\n",
            "6/6 [==============================] - 0s 16ms/step - loss: 0.4388 - val_loss: 0.6042\n",
            "Epoch 3/100\n",
            "6/6 [==============================] - 0s 12ms/step - loss: 0.4343 - val_loss: 0.5015\n",
            "Epoch 4/100\n",
            "6/6 [==============================] - 0s 12ms/step - loss: 0.4308 - val_loss: 0.4885\n",
            "Epoch 5/100\n",
            "6/6 [==============================] - 0s 12ms/step - loss: 0.4537 - val_loss: 0.4766\n",
            "Epoch 6/100\n",
            "6/6 [==============================] - 0s 12ms/step - loss: 0.4008 - val_loss: 0.5150\n",
            "Epoch 7/100\n",
            "6/6 [==============================] - 0s 12ms/step - loss: 0.4502 - val_loss: 0.5776\n"
          ]
        },
        {
          "output_type": "execute_result",
          "data": {
            "text/plain": [
              "<keras.callbacks.History at 0x7fd47d8b3be0>"
            ]
          },
          "metadata": {},
          "execution_count": 49
        }
      ]
    },
    {
      "cell_type": "code",
      "source": [
        "modelr.evaluate(test_data, test_target, verbose=1)"
      ],
      "metadata": {
        "colab": {
          "base_uri": "https://localhost:8080/"
        },
        "id": "saI53v7vcujL",
        "outputId": "c4df49ac-9d66-4bb4-9696-2a3545395f81"
      },
      "execution_count": null,
      "outputs": [
        {
          "output_type": "stream",
          "name": "stdout",
          "text": [
            "2/2 [==============================] - 0s 10ms/step - loss: 0.9790\n"
          ]
        },
        {
          "output_type": "execute_result",
          "data": {
            "text/plain": [
              "0.9789867997169495"
            ]
          },
          "metadata": {},
          "execution_count": 39
        }
      ]
    },
    {
      "cell_type": "code",
      "source": [
        "model.compile(optimizer='adam', loss='mse')\n",
        "history = model.fit(train_data, train_target, epochs=5, validation_split=0.15, batch_size=64, verbose=0, callbacks=[Trainingcallback()])"
      ],
      "metadata": {
        "id": "C9ReTUkIqAKp",
        "colab": {
          "base_uri": "https://localhost:8080/"
        },
        "outputId": "3109a3fe-34aa-4c0e-cf3e-5c19c4183847"
      },
      "execution_count": null,
      "outputs": [
        {
          "output_type": "stream",
          "name": "stdout",
          "text": [
            "starting training....!!!!\n",
            "starting epoch  0\n",
            "Training batch: starting 0\n",
            "Training batch: ending 0\n",
            "Training batch: starting 1\n",
            "Training batch: ending 1\n",
            "Training batch: starting 2\n",
            "Training batch: ending 2\n",
            "Training batch: starting 3\n",
            "Training batch: ending 3\n",
            "Training batch: starting 4\n",
            "Training batch: ending 4\n",
            "Training batch: starting 5\n",
            "Training batch: ending 5\n",
            "Finished epoch 0\n",
            "starting epoch  1\n",
            "Training batch: starting 0\n",
            "Training batch: ending 0\n",
            "Training batch: starting 1\n",
            "Training batch: ending 1\n",
            "Training batch: starting 2\n",
            "Training batch: ending 2\n",
            "Training batch: starting 3\n",
            "Training batch: ending 3\n",
            "Training batch: starting 4\n",
            "Training batch: ending 4\n",
            "Training batch: starting 5\n",
            "Training batch: ending 5\n",
            "Finished epoch 1\n",
            "starting epoch  2\n",
            "Training batch: starting 0\n",
            "Training batch: ending 0\n",
            "Training batch: starting 1\n",
            "Training batch: ending 1\n",
            "Training batch: starting 2\n",
            "Training batch: ending 2\n",
            "Training batch: starting 3\n",
            "Training batch: ending 3\n",
            "Training batch: starting 4\n",
            "Training batch: ending 4\n",
            "Training batch: starting 5\n",
            "Training batch: ending 5\n",
            "Finished epoch 2\n",
            "starting epoch  3\n",
            "Training batch: starting 0\n",
            "Training batch: ending 0\n",
            "Training batch: starting 1\n",
            "Training batch: ending 1\n",
            "Training batch: starting 2\n",
            "Training batch: ending 2\n",
            "Training batch: starting 3\n",
            "Training batch: ending 3\n",
            "Training batch: starting 4\n",
            "Training batch: ending 4\n",
            "Training batch: starting 5\n",
            "Training batch: ending 5\n",
            "Finished epoch 3\n",
            "starting epoch  4\n",
            "Training batch: starting 0\n",
            "Training batch: ending 0\n",
            "Training batch: starting 1\n",
            "Training batch: ending 1\n",
            "Training batch: starting 2\n",
            "Training batch: ending 2\n",
            "Training batch: starting 3\n",
            "Training batch: ending 3\n",
            "Training batch: starting 4\n",
            "Training batch: ending 4\n",
            "Training batch: starting 5\n",
            "Training batch: ending 5\n",
            "Finished epoch 4\n",
            "خلصت التعلم\n"
          ]
        }
      ]
    },
    {
      "cell_type": "code",
      "source": [
        "class testingcallbacks(Callback):\n",
        "  def on_test_begin(self, logs=None):\n",
        "    print(\"Testing started.............\")\n",
        "  def on_test_batch_begin(self, batch, logs=None):\n",
        "    print(f\"testing batch no {batch} started\")\n",
        "  def on_test_batch_end(self, batch, logs=None):\n",
        "    print(f\"Testing batch no {batch} ended\")\n",
        "  def on_test_end(self, logs=None):\n",
        "    print(\"Testing Pinished\")"
      ],
      "metadata": {
        "id": "AwYx9E7ofP6v"
      },
      "execution_count": null,
      "outputs": []
    },
    {
      "cell_type": "code",
      "source": [
        "model.evaluate(test_data, test_target, verbose=0, callbacks=[testingcallbacks()])\n"
      ],
      "metadata": {
        "id": "B6Ppl_PAvMpS",
        "outputId": "2e8e9fec-12b8-4d48-ed6d-d6a98f066a6e",
        "colab": {
          "base_uri": "https://localhost:8080/"
        }
      },
      "execution_count": null,
      "outputs": [
        {
          "output_type": "stream",
          "name": "stdout",
          "text": [
            "Testing started.............\n",
            "testing batch no 0 started\n",
            "Testing batch no 0 ended\n",
            "testing batch no 1 started\n",
            "Testing batch no 1 ended\n",
            "Testing Pinished\n"
          ]
        },
        {
          "output_type": "execute_result",
          "data": {
            "text/plain": [
              "0.8483691811561584"
            ]
          },
          "metadata": {},
          "execution_count": 31
        }
      ]
    },
    {
      "cell_type": "code",
      "source": [
        "class predictingcallbacks(Callback):\n",
        "  def on_predict_begin(self, logs=None):\n",
        "    print(\"predicting started.............\")\n",
        "  def on_predict_batch_begin(self, batch, logs=None):\n",
        "    print(f\"predicting batch no {batch} started\")\n",
        "  def on_predict_batch_end(self, batch, logs=None):\n",
        "    print(f\"predicting batch no {batch} ended\")\n",
        "  def on_predict_end(self, logs=None):\n",
        "    print(\"predicting Pinishhshshshhshshshshshshsh\")"
      ],
      "metadata": {
        "id": "0H5IJUMEh6_M"
      },
      "execution_count": null,
      "outputs": []
    },
    {
      "cell_type": "code",
      "source": [
        "model.predict(test_data, callbacks=[predictingcallbacks()], verbose=0)"
      ],
      "metadata": {
        "colab": {
          "base_uri": "https://localhost:8080/"
        },
        "id": "nZCC_kk5h0Zd",
        "outputId": "d26a1b08-98d3-4364-bf5f-2c9a96d1cc6a"
      },
      "execution_count": null,
      "outputs": [
        {
          "output_type": "stream",
          "name": "stdout",
          "text": [
            "predicting started.............\n",
            "predicting batch no 0 started\n",
            "predicting batch no 0 ended\n",
            "predicting batch no 1 started\n",
            "predicting batch no 1 ended\n",
            "predicting Pinishhshshshhshshshshshshsh\n"
          ]
        },
        {
          "output_type": "execute_result",
          "data": {
            "text/plain": [
              "array([[ 0.0092515 ],\n",
              "       [ 0.00061071],\n",
              "       [ 0.01980153],\n",
              "       [-0.00971966],\n",
              "       [ 0.01774241],\n",
              "       [ 0.02074597],\n",
              "       [ 0.01189145],\n",
              "       [-0.00551632],\n",
              "       [ 0.00803388],\n",
              "       [-0.00255974],\n",
              "       [ 0.01330362],\n",
              "       [ 0.01182252],\n",
              "       [ 0.012808  ],\n",
              "       [-0.00256758],\n",
              "       [-0.00311472],\n",
              "       [ 0.0065578 ],\n",
              "       [ 0.00965613],\n",
              "       [ 0.01584103],\n",
              "       [ 0.01828531],\n",
              "       [ 0.00147369],\n",
              "       [-0.0013335 ],\n",
              "       [ 0.00188286],\n",
              "       [-0.01308585],\n",
              "       [ 0.01689783],\n",
              "       [-0.00553125],\n",
              "       [-0.001571  ],\n",
              "       [-0.00297122],\n",
              "       [-0.00535394],\n",
              "       [ 0.0102557 ],\n",
              "       [ 0.00111998],\n",
              "       [-0.00446796],\n",
              "       [ 0.0043502 ],\n",
              "       [-0.0085979 ],\n",
              "       [ 0.01058411],\n",
              "       [ 0.0054281 ],\n",
              "       [-0.00294835],\n",
              "       [ 0.00273709],\n",
              "       [ 0.00986176],\n",
              "       [-0.00560545],\n",
              "       [ 0.01461008],\n",
              "       [ 0.01058461],\n",
              "       [ 0.00550645],\n",
              "       [-0.00358295],\n",
              "       [ 0.02541276],\n",
              "       [-0.00516156]], dtype=float32)"
            ]
          },
          "metadata": {},
          "execution_count": 38
        }
      ]
    },
    {
      "cell_type": "code",
      "source": [
        "import matplotlib.pyplot as plt\n",
        "history.history\n",
        "plt.plot(history.history['loss'])\n",
        "plt.plot(history.history['val_loss'])\n",
        "plt.title('Loss vs epochs')\n",
        "plt.xlabel('Epochs')\n",
        "plt.ylabel('Loss')\n",
        "plt.show()"
      ],
      "metadata": {
        "id": "VGBKS3jFwD5b",
        "outputId": "47f963b5-3769-4653-b664-fed1f2ccc63e",
        "colab": {
          "base_uri": "https://localhost:8080/",
          "height": 295
        }
      },
      "execution_count": null,
      "outputs": [
        {
          "output_type": "display_data",
          "data": {
            "text/plain": [
              "<Figure size 432x288 with 1 Axes>"
            ],
            "image/png": "[encoded data removed]"
          },
          "metadata": {
            "needs_background": "light"
          }
        }
      ]
    }
  ],
  "metadata": {
    "colab": {
      "provenance": [],
      "include_colab_link": true
    },
    "kernelspec": {
      "display_name": "Python 3",
      "name": "python3"
    }
  },
  "nbformat": 4,
  "nbformat_minor": 0
}